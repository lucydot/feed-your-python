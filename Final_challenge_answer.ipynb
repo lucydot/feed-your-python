{
 "cells": [
  {
   "cell_type": "code",
   "execution_count": 1,
   "metadata": {},
   "outputs": [],
   "source": [
    "import pandas as pd\n",
    "\n",
    "# load data\n",
    "url=\"https://www.gov.uk/government/uploads/system/uploads/attachment_data/file/673041/Public_libraries_in_England-_extended_basic_dataset__as_on_1_July_2016_.csv\"\n",
    "library_df=pd.read_csv(url, header=1, encoding='latin-1')"
   ]
  },
  {
   "cell_type": "markdown",
   "metadata": {},
   "source": [
    "## Answer\n",
    "We filter the data to find the libraries which were open in 2010. We are looking for values in the 4th column which are equal to \"yes\" or \"Yes\"."
   ]
  },
  {
   "cell_type": "code",
   "execution_count": 2,
   "metadata": {},
   "outputs": [],
   "source": [
    "open_2010 = library_df[(library_df.iloc[:,4] == \"yes\") | (library_df.iloc[:,4] == \"Yes\")]"
   ]
  },
  {
   "cell_type": "markdown",
   "metadata": {},
   "source": [
    "Now we can filter the libraries which we know were open in 2010 to find those which were closed in 2016 (where the 5th column has values equal to \"no\" or \"No\")."
   ]
  },
  {
   "cell_type": "code",
   "execution_count": 3,
   "metadata": {},
   "outputs": [],
   "source": [
    "open_2010_closed_2015 = open_2010[(open_2010.iloc[:,5] == \"No\") | (open_2010.iloc[:,5] == \"no\")]"
   ]
  },
  {
   "cell_type": "markdown",
   "metadata": {},
   "source": [
    "Finally, we can calculate the length of this dataframe using `len` (subtracting one as this is the column heading row)."
   ]
  },
  {
   "cell_type": "code",
   "execution_count": 12,
   "metadata": {},
   "outputs": [
    {
     "name": "stdout",
     "output_type": "stream",
     "text": [
      "There were 417 libraries closed between 2010 and 2015.\n"
     ]
    }
   ],
   "source": [
    "number_closed = len(open_2010_closed_2015)-1\n",
    "print ('There were {} libraries closed between 2010 and 2015.'.format(str(number_closed)))"
   ]
  },
  {
   "cell_type": "markdown",
   "metadata": {},
   "source": [
    "Or we can use multiple boolean expressions to combine this into a single line piece of code:"
   ]
  },
  {
   "cell_type": "code",
   "execution_count": 13,
   "metadata": {},
   "outputs": [
    {
     "data": {
      "text/plain": [
       "418"
      ]
     },
     "execution_count": 13,
     "metadata": {},
     "output_type": "execute_result"
    }
   ],
   "source": [
    "len(library_df[((library_df.iloc[:,4] == \"yes\") | (library_df.iloc[:,4] == \"Yes\")) & ((library_df.iloc[:,5] == \"No\") | (library_df.iloc[:,5] == \"no\"))])"
   ]
  },
  {
   "cell_type": "code",
   "execution_count": null,
   "metadata": {},
   "outputs": [],
   "source": []
  },
  {
   "cell_type": "code",
   "execution_count": null,
   "metadata": {},
   "outputs": [],
   "source": []
  }
 ],
 "metadata": {
  "kernelspec": {
   "display_name": "Python 3",
   "language": "python",
   "name": "python3"
  },
  "language_info": {
   "codemirror_mode": {
    "name": "ipython",
    "version": 3
   },
   "file_extension": ".py",
   "mimetype": "text/x-python",
   "name": "python",
   "nbconvert_exporter": "python",
   "pygments_lexer": "ipython3",
   "version": "3.6.1"
  }
 },
 "nbformat": 4,
 "nbformat_minor": 2
}

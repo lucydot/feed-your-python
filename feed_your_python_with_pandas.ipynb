{
 "cells": [
  {
   "cell_type": "markdown",
   "metadata": {},
   "source": [
    "## Introduction\n",
    "\n",
    "This notebook forms the main part of the \"Feed your Python with Pandas\" mini-tutorial.\n",
    "\n",
    "It is a Jupyter Notebook - you can run code in the cells (using `ctrl+enter` or `shift+enter`), edit cells, and re-run at will.\n",
    "\n",
    "<div class=\"alert alert-success\">\n",
    "Short activities are highlighted in green. Use the cell below each activity to write your answer.\n",
    "</div>\n",
    "\n",
    "## Notebook outline\n",
    "The notebook is in three parts.\n",
    "\n",
    "- **Cats: Basic Pandas methods**\n",
    "    - creating a dataframe\n",
    "    - accessing rows/values/columns\n",
    "    - adding a row/column\n",
    "    - deleting a row or column\n",
    "    - re-naming columns\n",
    "    - setting and re-setting the dataframe index\n",
    "    - applying functions\n",
    "    - iterating over rows\n",
    "- **UV-Vis absorption: A more realistic example**\n",
    "    - importing data from a file\n",
    "    - tidying up the data (using what has been previously learnt)\n",
    "    - filtering data\n",
    "    - plotting data\n",
    "- **UK Libraries: The Final Challenge**\n",
    "\n",
    "## Preamble\n",
    "\n",
    "The first thing we want to do is load the Python libraries we will be using into our namespace. The library names are shortened to save on typing."
   ]
  },
  {
   "cell_type": "code",
   "execution_count": 1,
   "metadata": {},
   "outputs": [],
   "source": [
    "import pandas as pd\n",
    "\n",
    "# so that plots are displayed inline in the Jupyter notebook\n",
    "%matplotlib inline  "
   ]
  },
  {
   "cell_type": "markdown",
   "metadata": {},
   "source": [
    "# Cats\n",
    "![cute_cat_pic](./images/cats.jpg)"
   ]
  },
  {
   "cell_type": "markdown",
   "metadata": {},
   "source": [
    "## Creating a dataframe \n",
    "\n",
    "First we create two one-dimensional `Series` objects. One with information about Pebbles the cat and one with information about Fluffy the cat. We can then combine these to make a two-dimensional `DataFrame` object."
   ]
  },
  {
   "cell_type": "code",
   "execution_count": 27,
   "metadata": {
    "scrolled": false
   },
   "outputs": [
    {
     "data": {
      "text/html": [
       "<div>\n",
       "<style scoped>\n",
       "    .dataframe tbody tr th:only-of-type {\n",
       "        vertical-align: middle;\n",
       "    }\n",
       "\n",
       "    .dataframe tbody tr th {\n",
       "        vertical-align: top;\n",
       "    }\n",
       "\n",
       "    .dataframe thead th {\n",
       "        text-align: right;\n",
       "    }\n",
       "</style>\n",
       "<table border=\"1\" class=\"dataframe\">\n",
       "  <thead>\n",
       "    <tr style=\"text-align: right;\">\n",
       "      <th></th>\n",
       "      <th>Name</th>\n",
       "      <th>Age</th>\n",
       "      <th>Colour</th>\n",
       "    </tr>\n",
       "  </thead>\n",
       "  <tbody>\n",
       "    <tr>\n",
       "      <th>0</th>\n",
       "      <td>Pebbles</td>\n",
       "      <td>7</td>\n",
       "      <td>grey</td>\n",
       "    </tr>\n",
       "    <tr>\n",
       "      <th>1</th>\n",
       "      <td>Fluffy</td>\n",
       "      <td>1</td>\n",
       "      <td>white</td>\n",
       "    </tr>\n",
       "  </tbody>\n",
       "</table>\n",
       "</div>"
      ],
      "text/plain": [
       "      Name Age Colour\n",
       "0  Pebbles   7   grey\n",
       "1   Fluffy   1  white"
      ]
     },
     "execution_count": 27,
     "metadata": {},
     "output_type": "execute_result"
    }
   ],
   "source": [
    "column_names = ['Name','Age','Colour']\n",
    "Pebbles_data = ['Pebbles','7','grey'] # information about Pebbles the cat\n",
    "Fluffy_data = ['Fluffy','1','white'] # information about Fluffy the cat\n",
    "\n",
    "s1 = pd.Series(Pebbles_data, column_names) # Create a series for Pebbles\n",
    "s2 = pd.Series(Fluffy_data, column_names) # Create a series for Fluffy\n",
    "\n",
    "df = pd.DataFrame([s1,s2])  # combine the series to make a dataframe\n",
    "df"
   ]
  },
  {
   "cell_type": "markdown",
   "metadata": {},
   "source": [
    "## Accessing rows, values and columns in a dataframe\n",
    "\n",
    "### Accessing rows\n",
    "\n",
    "There are two ways to access the value rows in the dataframe above. Key point is that:\n",
    "\n",
    "- `loc` works on the labels of your index\n",
    "- `iloc` works on the positions of your index\n",
    "\n",
    "For the dataframe above, the positions and labels of our index are the same."
   ]
  },
  {
   "cell_type": "code",
   "execution_count": 3,
   "metadata": {},
   "outputs": [
    {
     "name": "stdout",
     "output_type": "stream",
     "text": [
      "Name      Pebbles\n",
      "Age             7\n",
      "Colour       grey\n",
      "Name: 0, dtype: object\n",
      "Name      Pebbles\n",
      "Age             7\n",
      "Colour       grey\n",
      "Name: 0, dtype: object\n"
     ]
    }
   ],
   "source": [
    "# select the first row by position\n",
    "print (df.iloc[0])\n",
    "\n",
    "# select the first row by label\n",
    "print (df.loc[0])"
   ]
  },
  {
   "cell_type": "markdown",
   "metadata": {},
   "source": [
    "### Accessing values\n",
    "\n",
    "We use a similar syntax to access values within a particular row. Remember that in Python indexing starts at 0!"
   ]
  },
  {
   "cell_type": "code",
   "execution_count": 4,
   "metadata": {},
   "outputs": [
    {
     "name": "stdout",
     "output_type": "stream",
     "text": [
      "grey\n",
      "grey\n"
     ]
    }
   ],
   "source": [
    "# selection by position - row 0, column 2. \n",
    "print (df.iloc[0][2])   \n",
    "\n",
    "# selection by label\n",
    "print (df.loc[0]['Colour'])"
   ]
  },
  {
   "cell_type": "markdown",
   "metadata": {},
   "source": [
    "<div class=\"alert alert-success\">\n",
    "See if you can work out how to access the `Fluffy` value in the dataframe. Print this out using the box below.\n",
    "</div>\n"
   ]
  },
  {
   "cell_type": "code",
   "execution_count": null,
   "metadata": {},
   "outputs": [],
   "source": []
  },
  {
   "cell_type": "markdown",
   "metadata": {},
   "source": [
    "### Setting a column as an index"
   ]
  },
  {
   "cell_type": "markdown",
   "metadata": {},
   "source": [
    "We may prefer to have cat names as our index instead of integers. Call the `set_index()` function to set one of the columns as an index. The `inplace` keyword tells Pandas to modify the dataframe in place without creating a new object (this will overwrite our original dataframe)."
   ]
  },
  {
   "cell_type": "code",
   "execution_count": 5,
   "metadata": {},
   "outputs": [
    {
     "data": {
      "text/html": [
       "<div>\n",
       "<style scoped>\n",
       "    .dataframe tbody tr th:only-of-type {\n",
       "        vertical-align: middle;\n",
       "    }\n",
       "\n",
       "    .dataframe tbody tr th {\n",
       "        vertical-align: top;\n",
       "    }\n",
       "\n",
       "    .dataframe thead th {\n",
       "        text-align: right;\n",
       "    }\n",
       "</style>\n",
       "<table border=\"1\" class=\"dataframe\">\n",
       "  <thead>\n",
       "    <tr style=\"text-align: right;\">\n",
       "      <th></th>\n",
       "      <th>Age</th>\n",
       "      <th>Colour</th>\n",
       "    </tr>\n",
       "    <tr>\n",
       "      <th>Name</th>\n",
       "      <th></th>\n",
       "      <th></th>\n",
       "    </tr>\n",
       "  </thead>\n",
       "  <tbody>\n",
       "    <tr>\n",
       "      <th>Pebbles</th>\n",
       "      <td>7</td>\n",
       "      <td>grey</td>\n",
       "    </tr>\n",
       "    <tr>\n",
       "      <th>Fluffy</th>\n",
       "      <td>1</td>\n",
       "      <td>white</td>\n",
       "    </tr>\n",
       "  </tbody>\n",
       "</table>\n",
       "</div>"
      ],
      "text/plain": [
       "        Age Colour\n",
       "Name              \n",
       "Pebbles   7   grey\n",
       "Fluffy    1  white"
      ]
     },
     "execution_count": 5,
     "metadata": {},
     "output_type": "execute_result"
    }
   ],
   "source": [
    "df.set_index('Name',inplace=True)\n",
    "df"
   ]
  },
  {
   "cell_type": "markdown",
   "metadata": {},
   "source": [
    "We can now see the difference between using `loc` and `iloc`."
   ]
  },
  {
   "cell_type": "markdown",
   "metadata": {},
   "source": [
    "<div class=\"alert alert-success\">\n",
    "Use `loc` and `iloc` to access the `Fluffy` row \n",
    "</div>"
   ]
  },
  {
   "cell_type": "code",
   "execution_count": null,
   "metadata": {},
   "outputs": [],
   "source": []
  },
  {
   "cell_type": "markdown",
   "metadata": {},
   "source": [
    "<div class=\"alert alert-success\">\n",
    "Use `loc` and `iloc` to access the `white` value\n",
    "</div>"
   ]
  },
  {
   "cell_type": "code",
   "execution_count": null,
   "metadata": {},
   "outputs": [],
   "source": []
  },
  {
   "cell_type": "markdown",
   "metadata": {},
   "source": [
    "### Accessing columns\n",
    "The syntax for accessing columns is straight forward as we can use the column labels."
   ]
  },
  {
   "cell_type": "code",
   "execution_count": 6,
   "metadata": {
    "scrolled": true
   },
   "outputs": [
    {
     "data": {
      "text/plain": [
       "Name\n",
       "Pebbles     grey\n",
       "Fluffy     white\n",
       "Name: Colour, dtype: object"
      ]
     },
     "execution_count": 6,
     "metadata": {},
     "output_type": "execute_result"
    }
   ],
   "source": [
    "df['Colour']"
   ]
  },
  {
   "cell_type": "markdown",
   "metadata": {},
   "source": [
    "## Adding a row or column to dataframe\n",
    "\n",
    "### Adding rows to your dataframe\n",
    "\n",
    "`loc` and `iloc` can be used to add rows to your dataframe"
   ]
  },
  {
   "cell_type": "code",
   "execution_count": 7,
   "metadata": {},
   "outputs": [
    {
     "data": {
      "text/html": [
       "<div>\n",
       "<style scoped>\n",
       "    .dataframe tbody tr th:only-of-type {\n",
       "        vertical-align: middle;\n",
       "    }\n",
       "\n",
       "    .dataframe tbody tr th {\n",
       "        vertical-align: top;\n",
       "    }\n",
       "\n",
       "    .dataframe thead th {\n",
       "        text-align: right;\n",
       "    }\n",
       "</style>\n",
       "<table border=\"1\" class=\"dataframe\">\n",
       "  <thead>\n",
       "    <tr style=\"text-align: right;\">\n",
       "      <th></th>\n",
       "      <th>Age</th>\n",
       "      <th>Colour</th>\n",
       "    </tr>\n",
       "    <tr>\n",
       "      <th>Name</th>\n",
       "      <th></th>\n",
       "      <th></th>\n",
       "    </tr>\n",
       "  </thead>\n",
       "  <tbody>\n",
       "    <tr>\n",
       "      <th>Pebbles</th>\n",
       "      <td>7</td>\n",
       "      <td>grey</td>\n",
       "    </tr>\n",
       "    <tr>\n",
       "      <th>Fluffy</th>\n",
       "      <td>1</td>\n",
       "      <td>white</td>\n",
       "    </tr>\n",
       "    <tr>\n",
       "      <th>Minty</th>\n",
       "      <td>4</td>\n",
       "      <td>tabby</td>\n",
       "    </tr>\n",
       "  </tbody>\n",
       "</table>\n",
       "</div>"
      ],
      "text/plain": [
       "        Age Colour\n",
       "Name              \n",
       "Pebbles   7   grey\n",
       "Fluffy    1  white\n",
       "Minty     4  tabby"
      ]
     },
     "execution_count": 7,
     "metadata": {},
     "output_type": "execute_result"
    }
   ],
   "source": [
    "df.loc[\"Minty\"]=[\"4\",\"tabby\"]\n",
    "df"
   ]
  },
  {
   "cell_type": "markdown",
   "metadata": {},
   "source": [
    "### Adding a column to your dataframe\n",
    "\n",
    "We can create a new column `cat_toys` by creating a `Series` object. The `index` of the `Series` is set to the `index` of the dataframe."
   ]
  },
  {
   "cell_type": "code",
   "execution_count": 8,
   "metadata": {},
   "outputs": [
    {
     "data": {
      "text/plain": [
       "Name\n",
       "Pebbles        mouse\n",
       "Fluffy     laser pen\n",
       "Minty           wool\n",
       "dtype: object"
      ]
     },
     "execution_count": 8,
     "metadata": {},
     "output_type": "execute_result"
    }
   ],
   "source": [
    "cat_toys = pd.Series(['mouse','laser pen','wool'],index=df.index)\n",
    "cat_toys"
   ]
  },
  {
   "cell_type": "markdown",
   "metadata": {},
   "source": [
    "We can use `loc` to add this to the dataframe:"
   ]
  },
  {
   "cell_type": "code",
   "execution_count": 9,
   "metadata": {},
   "outputs": [
    {
     "data": {
      "text/html": [
       "<div>\n",
       "<style scoped>\n",
       "    .dataframe tbody tr th:only-of-type {\n",
       "        vertical-align: middle;\n",
       "    }\n",
       "\n",
       "    .dataframe tbody tr th {\n",
       "        vertical-align: top;\n",
       "    }\n",
       "\n",
       "    .dataframe thead th {\n",
       "        text-align: right;\n",
       "    }\n",
       "</style>\n",
       "<table border=\"1\" class=\"dataframe\">\n",
       "  <thead>\n",
       "    <tr style=\"text-align: right;\">\n",
       "      <th></th>\n",
       "      <th>Age</th>\n",
       "      <th>Colour</th>\n",
       "      <th>Toy</th>\n",
       "    </tr>\n",
       "    <tr>\n",
       "      <th>Name</th>\n",
       "      <th></th>\n",
       "      <th></th>\n",
       "      <th></th>\n",
       "    </tr>\n",
       "  </thead>\n",
       "  <tbody>\n",
       "    <tr>\n",
       "      <th>Pebbles</th>\n",
       "      <td>7</td>\n",
       "      <td>grey</td>\n",
       "      <td>mouse</td>\n",
       "    </tr>\n",
       "    <tr>\n",
       "      <th>Fluffy</th>\n",
       "      <td>1</td>\n",
       "      <td>white</td>\n",
       "      <td>laser pen</td>\n",
       "    </tr>\n",
       "    <tr>\n",
       "      <th>Minty</th>\n",
       "      <td>4</td>\n",
       "      <td>tabby</td>\n",
       "      <td>wool</td>\n",
       "    </tr>\n",
       "  </tbody>\n",
       "</table>\n",
       "</div>"
      ],
      "text/plain": [
       "        Age Colour        Toy\n",
       "Name                         \n",
       "Pebbles   7   grey      mouse\n",
       "Fluffy    1  white  laser pen\n",
       "Minty     4  tabby       wool"
      ]
     },
     "execution_count": 9,
     "metadata": {},
     "output_type": "execute_result"
    }
   ],
   "source": [
    "df.loc[:,\"Toy\"] = cat_toys\n",
    "df"
   ]
  },
  {
   "cell_type": "markdown",
   "metadata": {},
   "source": [
    "<div class=\"alert alert-success\">\n",
    "Create an  `Eye_colour` column which contains the...you guessed it...eye colour of each cat to the dataframe (you can decide on the colours).\n",
    "</div>"
   ]
  },
  {
   "cell_type": "code",
   "execution_count": null,
   "metadata": {},
   "outputs": [],
   "source": []
  },
  {
   "cell_type": "markdown",
   "metadata": {},
   "source": [
    "### Resetting the dataframe index\n",
    "\n",
    "It is often a good idea to keep the index. Use `reset_index` to reset."
   ]
  },
  {
   "cell_type": "code",
   "execution_count": 10,
   "metadata": {},
   "outputs": [
    {
     "data": {
      "text/html": [
       "<div>\n",
       "<style scoped>\n",
       "    .dataframe tbody tr th:only-of-type {\n",
       "        vertical-align: middle;\n",
       "    }\n",
       "\n",
       "    .dataframe tbody tr th {\n",
       "        vertical-align: top;\n",
       "    }\n",
       "\n",
       "    .dataframe thead th {\n",
       "        text-align: right;\n",
       "    }\n",
       "</style>\n",
       "<table border=\"1\" class=\"dataframe\">\n",
       "  <thead>\n",
       "    <tr style=\"text-align: right;\">\n",
       "      <th></th>\n",
       "      <th>Name</th>\n",
       "      <th>Age</th>\n",
       "      <th>Colour</th>\n",
       "      <th>Toy</th>\n",
       "    </tr>\n",
       "  </thead>\n",
       "  <tbody>\n",
       "    <tr>\n",
       "      <th>0</th>\n",
       "      <td>Pebbles</td>\n",
       "      <td>7</td>\n",
       "      <td>grey</td>\n",
       "      <td>mouse</td>\n",
       "    </tr>\n",
       "    <tr>\n",
       "      <th>1</th>\n",
       "      <td>Fluffy</td>\n",
       "      <td>1</td>\n",
       "      <td>white</td>\n",
       "      <td>laser pen</td>\n",
       "    </tr>\n",
       "    <tr>\n",
       "      <th>2</th>\n",
       "      <td>Minty</td>\n",
       "      <td>4</td>\n",
       "      <td>tabby</td>\n",
       "      <td>wool</td>\n",
       "    </tr>\n",
       "  </tbody>\n",
       "</table>\n",
       "</div>"
      ],
      "text/plain": [
       "      Name Age Colour        Toy\n",
       "0  Pebbles   7   grey      mouse\n",
       "1   Fluffy   1  white  laser pen\n",
       "2    Minty   4  tabby       wool"
      ]
     },
     "execution_count": 10,
     "metadata": {},
     "output_type": "execute_result"
    }
   ],
   "source": [
    "df.reset_index(level=0,inplace=True)\n",
    "df"
   ]
  },
  {
   "cell_type": "markdown",
   "metadata": {},
   "source": [
    "## Deleting rows or columns from a dataframe\n",
    "\n",
    "To delete rows and columns we se the `drop()` method. The axis argument specifies whether it is a row or a column."
   ]
  },
  {
   "cell_type": "code",
   "execution_count": 11,
   "metadata": {},
   "outputs": [
    {
     "data": {
      "text/html": [
       "<div>\n",
       "<style scoped>\n",
       "    .dataframe tbody tr th:only-of-type {\n",
       "        vertical-align: middle;\n",
       "    }\n",
       "\n",
       "    .dataframe tbody tr th {\n",
       "        vertical-align: top;\n",
       "    }\n",
       "\n",
       "    .dataframe thead th {\n",
       "        text-align: right;\n",
       "    }\n",
       "</style>\n",
       "<table border=\"1\" class=\"dataframe\">\n",
       "  <thead>\n",
       "    <tr style=\"text-align: right;\">\n",
       "      <th></th>\n",
       "      <th>Name</th>\n",
       "      <th>Age</th>\n",
       "      <th>Colour</th>\n",
       "    </tr>\n",
       "  </thead>\n",
       "  <tbody>\n",
       "    <tr>\n",
       "      <th>0</th>\n",
       "      <td>Pebbles</td>\n",
       "      <td>7</td>\n",
       "      <td>grey</td>\n",
       "    </tr>\n",
       "    <tr>\n",
       "      <th>1</th>\n",
       "      <td>Fluffy</td>\n",
       "      <td>1</td>\n",
       "      <td>white</td>\n",
       "    </tr>\n",
       "    <tr>\n",
       "      <th>2</th>\n",
       "      <td>Minty</td>\n",
       "      <td>4</td>\n",
       "      <td>tabby</td>\n",
       "    </tr>\n",
       "  </tbody>\n",
       "</table>\n",
       "</div>"
      ],
      "text/plain": [
       "      Name Age Colour\n",
       "0  Pebbles   7   grey\n",
       "1   Fluffy   1  white\n",
       "2    Minty   4  tabby"
      ]
     },
     "execution_count": 11,
     "metadata": {},
     "output_type": "execute_result"
    }
   ],
   "source": [
    "# drop the 'toy' column\n",
    "df.drop('Toy',axis=1,inplace=True)\n",
    "df"
   ]
  },
  {
   "cell_type": "code",
   "execution_count": 12,
   "metadata": {},
   "outputs": [
    {
     "data": {
      "text/html": [
       "<div>\n",
       "<style scoped>\n",
       "    .dataframe tbody tr th:only-of-type {\n",
       "        vertical-align: middle;\n",
       "    }\n",
       "\n",
       "    .dataframe tbody tr th {\n",
       "        vertical-align: top;\n",
       "    }\n",
       "\n",
       "    .dataframe thead th {\n",
       "        text-align: right;\n",
       "    }\n",
       "</style>\n",
       "<table border=\"1\" class=\"dataframe\">\n",
       "  <thead>\n",
       "    <tr style=\"text-align: right;\">\n",
       "      <th></th>\n",
       "      <th>Name</th>\n",
       "      <th>Age</th>\n",
       "      <th>Colour</th>\n",
       "    </tr>\n",
       "  </thead>\n",
       "  <tbody>\n",
       "    <tr>\n",
       "      <th>0</th>\n",
       "      <td>Pebbles</td>\n",
       "      <td>7</td>\n",
       "      <td>grey</td>\n",
       "    </tr>\n",
       "    <tr>\n",
       "      <th>2</th>\n",
       "      <td>Minty</td>\n",
       "      <td>4</td>\n",
       "      <td>tabby</td>\n",
       "    </tr>\n",
       "  </tbody>\n",
       "</table>\n",
       "</div>"
      ],
      "text/plain": [
       "      Name Age Colour\n",
       "0  Pebbles   7   grey\n",
       "2    Minty   4  tabby"
      ]
     },
     "execution_count": 12,
     "metadata": {},
     "output_type": "execute_result"
    }
   ],
   "source": [
    "# drop the row in position 1\n",
    "df.drop([1],axis=0,inplace=True)\n",
    "df"
   ]
  },
  {
   "cell_type": "markdown",
   "metadata": {},
   "source": [
    "<div class=\"alert alert-success\">\n",
    "Delete the `Colour` column\n",
    "</div>"
   ]
  },
  {
   "cell_type": "code",
   "execution_count": null,
   "metadata": {},
   "outputs": [],
   "source": []
  },
  {
   "cell_type": "markdown",
   "metadata": {},
   "source": [
    "## Applying functions to a dataframe column\n",
    "\n",
    "We may want to convert the cat `Age` in years to an `Age` in months.\n",
    "\n",
    "First we define a function which will do the conversion."
   ]
  },
  {
   "cell_type": "code",
   "execution_count": 13,
   "metadata": {},
   "outputs": [],
   "source": [
    "def years_to_months(x):\n",
    "    return int(x)*12   # this converts a value in years to a value in months"
   ]
  },
  {
   "cell_type": "markdown",
   "metadata": {},
   "source": [
    "We then apply the `years_to_months` function to the `Age` column"
   ]
  },
  {
   "cell_type": "code",
   "execution_count": 14,
   "metadata": {},
   "outputs": [
    {
     "data": {
      "text/html": [
       "<div>\n",
       "<style scoped>\n",
       "    .dataframe tbody tr th:only-of-type {\n",
       "        vertical-align: middle;\n",
       "    }\n",
       "\n",
       "    .dataframe tbody tr th {\n",
       "        vertical-align: top;\n",
       "    }\n",
       "\n",
       "    .dataframe thead th {\n",
       "        text-align: right;\n",
       "    }\n",
       "</style>\n",
       "<table border=\"1\" class=\"dataframe\">\n",
       "  <thead>\n",
       "    <tr style=\"text-align: right;\">\n",
       "      <th></th>\n",
       "      <th>Name</th>\n",
       "      <th>Age</th>\n",
       "      <th>Colour</th>\n",
       "    </tr>\n",
       "  </thead>\n",
       "  <tbody>\n",
       "    <tr>\n",
       "      <th>0</th>\n",
       "      <td>Pebbles</td>\n",
       "      <td>84</td>\n",
       "      <td>grey</td>\n",
       "    </tr>\n",
       "    <tr>\n",
       "      <th>2</th>\n",
       "      <td>Minty</td>\n",
       "      <td>48</td>\n",
       "      <td>tabby</td>\n",
       "    </tr>\n",
       "  </tbody>\n",
       "</table>\n",
       "</div>"
      ],
      "text/plain": [
       "      Name  Age Colour\n",
       "0  Pebbles   84   grey\n",
       "2    Minty   48  tabby"
      ]
     },
     "execution_count": 14,
     "metadata": {},
     "output_type": "execute_result"
    }
   ],
   "source": [
    "df['Age'] = df['Age'].apply(years_to_months)\n",
    "df"
   ]
  },
  {
   "cell_type": "markdown",
   "metadata": {},
   "source": [
    "## Renaming columns"
   ]
  },
  {
   "cell_type": "markdown",
   "metadata": {},
   "source": [
    "We can then rename our column to reflect this recent change"
   ]
  },
  {
   "cell_type": "code",
   "execution_count": 15,
   "metadata": {},
   "outputs": [
    {
     "data": {
      "text/html": [
       "<div>\n",
       "<style scoped>\n",
       "    .dataframe tbody tr th:only-of-type {\n",
       "        vertical-align: middle;\n",
       "    }\n",
       "\n",
       "    .dataframe tbody tr th {\n",
       "        vertical-align: top;\n",
       "    }\n",
       "\n",
       "    .dataframe thead th {\n",
       "        text-align: right;\n",
       "    }\n",
       "</style>\n",
       "<table border=\"1\" class=\"dataframe\">\n",
       "  <thead>\n",
       "    <tr style=\"text-align: right;\">\n",
       "      <th></th>\n",
       "      <th>Name</th>\n",
       "      <th>Age (months)</th>\n",
       "      <th>Colour</th>\n",
       "    </tr>\n",
       "  </thead>\n",
       "  <tbody>\n",
       "    <tr>\n",
       "      <th>0</th>\n",
       "      <td>Pebbles</td>\n",
       "      <td>84</td>\n",
       "      <td>grey</td>\n",
       "    </tr>\n",
       "    <tr>\n",
       "      <th>2</th>\n",
       "      <td>Minty</td>\n",
       "      <td>48</td>\n",
       "      <td>tabby</td>\n",
       "    </tr>\n",
       "  </tbody>\n",
       "</table>\n",
       "</div>"
      ],
      "text/plain": [
       "      Name  Age (months) Colour\n",
       "0  Pebbles            84   grey\n",
       "2    Minty            48  tabby"
      ]
     },
     "execution_count": 15,
     "metadata": {},
     "output_type": "execute_result"
    }
   ],
   "source": [
    "df.rename(columns={\"Age\":\"Age (months)\"},inplace=True)\n",
    "df"
   ]
  },
  {
   "cell_type": "markdown",
   "metadata": {},
   "source": [
    "## Iterating over rows"
   ]
  },
  {
   "cell_type": "markdown",
   "metadata": {},
   "source": [
    "You can interate over the rows of your dataframe by using `iterrows()` combined with a `for` loop"
   ]
  },
  {
   "cell_type": "code",
   "execution_count": 16,
   "metadata": {},
   "outputs": [
    {
     "name": "stdout",
     "output_type": "stream",
     "text": [
      "This cat is called Pebbles\n",
      "This cat is called Minty\n"
     ]
    }
   ],
   "source": [
    "for index, row in df.iterrows():\n",
    "    print (\"This cat is called \" + row['Name'])"
   ]
  },
  {
   "cell_type": "markdown",
   "metadata": {},
   "source": [
    "\n",
    "This is all lovely, and hopefully you have got a feel for how to manipulate dataframes, but your research is probably not about the age and names of a couple of cats. Lets use a more realistic example.\n",
    "\n",
    "# UV-Vis absorption\n",
    " \n",
    "\n",
    "![uv-vis_pic](./images/uv-vis.jpg)\n",
    "\n",
    "## Importing data from a file\n",
    "\n",
    "We can use the function `read_csv` to read-in data from a file (in this case UV-Vis absorption data from four samples)."
   ]
  },
  {
   "cell_type": "code",
   "execution_count": 17,
   "metadata": {},
   "outputs": [],
   "source": [
    "df = pd.read_csv(\"./data/UV-Vis_data.csv\")"
   ]
  },
  {
   "cell_type": "markdown",
   "metadata": {},
   "source": [
    "It is a large dataset of 1300 rows; use `head()` to see the top 5 rows"
   ]
  },
  {
   "cell_type": "code",
   "execution_count": 18,
   "metadata": {},
   "outputs": [
    {
     "data": {
      "text/html": [
       "<div>\n",
       "<style scoped>\n",
       "    .dataframe tbody tr th:only-of-type {\n",
       "        vertical-align: middle;\n",
       "    }\n",
       "\n",
       "    .dataframe tbody tr th {\n",
       "        vertical-align: top;\n",
       "    }\n",
       "\n",
       "    .dataframe thead th {\n",
       "        text-align: right;\n",
       "    }\n",
       "</style>\n",
       "<table border=\"1\" class=\"dataframe\">\n",
       "  <thead>\n",
       "    <tr style=\"text-align: right;\">\n",
       "      <th></th>\n",
       "      <th>Wavelength_1</th>\n",
       "      <th>Abs_1</th>\n",
       "      <th>Wavelength_2</th>\n",
       "      <th>Abs_2</th>\n",
       "      <th>Wavelength_3</th>\n",
       "      <th>Abs_3</th>\n",
       "      <th>Wavelength_4</th>\n",
       "      <th>Abs_4</th>\n",
       "    </tr>\n",
       "  </thead>\n",
       "  <tbody>\n",
       "    <tr>\n",
       "      <th>0</th>\n",
       "      <td>1500</td>\n",
       "      <td>0.004148</td>\n",
       "      <td>1500</td>\n",
       "      <td>0.004138</td>\n",
       "      <td>1500</td>\n",
       "      <td>0.005953</td>\n",
       "      <td>1500</td>\n",
       "      <td>0.012077</td>\n",
       "    </tr>\n",
       "    <tr>\n",
       "      <th>1</th>\n",
       "      <td>1499</td>\n",
       "      <td>0.004362</td>\n",
       "      <td>1499</td>\n",
       "      <td>0.004331</td>\n",
       "      <td>1499</td>\n",
       "      <td>0.006137</td>\n",
       "      <td>1499</td>\n",
       "      <td>0.012277</td>\n",
       "    </tr>\n",
       "    <tr>\n",
       "      <th>2</th>\n",
       "      <td>1498</td>\n",
       "      <td>0.004511</td>\n",
       "      <td>1498</td>\n",
       "      <td>0.004460</td>\n",
       "      <td>1498</td>\n",
       "      <td>0.006307</td>\n",
       "      <td>1498</td>\n",
       "      <td>0.012400</td>\n",
       "    </tr>\n",
       "    <tr>\n",
       "      <th>3</th>\n",
       "      <td>1497</td>\n",
       "      <td>0.004189</td>\n",
       "      <td>1497</td>\n",
       "      <td>0.004218</td>\n",
       "      <td>1497</td>\n",
       "      <td>0.006018</td>\n",
       "      <td>1497</td>\n",
       "      <td>0.012140</td>\n",
       "    </tr>\n",
       "    <tr>\n",
       "      <th>4</th>\n",
       "      <td>1496</td>\n",
       "      <td>0.004270</td>\n",
       "      <td>1496</td>\n",
       "      <td>0.004241</td>\n",
       "      <td>1496</td>\n",
       "      <td>0.006075</td>\n",
       "      <td>1496</td>\n",
       "      <td>0.012225</td>\n",
       "    </tr>\n",
       "  </tbody>\n",
       "</table>\n",
       "</div>"
      ],
      "text/plain": [
       "   Wavelength_1     Abs_1  Wavelength_2     Abs_2  Wavelength_3     Abs_3  \\\n",
       "0          1500  0.004148          1500  0.004138          1500  0.005953   \n",
       "1          1499  0.004362          1499  0.004331          1499  0.006137   \n",
       "2          1498  0.004511          1498  0.004460          1498  0.006307   \n",
       "3          1497  0.004189          1497  0.004218          1497  0.006018   \n",
       "4          1496  0.004270          1496  0.004241          1496  0.006075   \n",
       "\n",
       "   Wavelength_4     Abs_4  \n",
       "0          1500  0.012077  \n",
       "1          1499  0.012277  \n",
       "2          1498  0.012400  \n",
       "3          1497  0.012140  \n",
       "4          1496  0.012225  "
      ]
     },
     "execution_count": 18,
     "metadata": {},
     "output_type": "execute_result"
    }
   ],
   "source": [
    "df.head()   "
   ]
  },
  {
   "cell_type": "markdown",
   "metadata": {},
   "source": [
    "Note the automatic indexing of the rows.\n",
    "\n",
    "## Tidying up the dataframe\n",
    "\n",
    "First lets set the `Wavelength` column as the index"
   ]
  },
  {
   "cell_type": "code",
   "execution_count": 19,
   "metadata": {},
   "outputs": [
    {
     "data": {
      "text/html": [
       "<div>\n",
       "<style scoped>\n",
       "    .dataframe tbody tr th:only-of-type {\n",
       "        vertical-align: middle;\n",
       "    }\n",
       "\n",
       "    .dataframe tbody tr th {\n",
       "        vertical-align: top;\n",
       "    }\n",
       "\n",
       "    .dataframe thead th {\n",
       "        text-align: right;\n",
       "    }\n",
       "</style>\n",
       "<table border=\"1\" class=\"dataframe\">\n",
       "  <thead>\n",
       "    <tr style=\"text-align: right;\">\n",
       "      <th></th>\n",
       "      <th>Abs_1</th>\n",
       "      <th>Wavelength_2</th>\n",
       "      <th>Abs_2</th>\n",
       "      <th>Wavelength_3</th>\n",
       "      <th>Abs_3</th>\n",
       "      <th>Wavelength_4</th>\n",
       "      <th>Abs_4</th>\n",
       "    </tr>\n",
       "    <tr>\n",
       "      <th>Wavelength_1</th>\n",
       "      <th></th>\n",
       "      <th></th>\n",
       "      <th></th>\n",
       "      <th></th>\n",
       "      <th></th>\n",
       "      <th></th>\n",
       "      <th></th>\n",
       "    </tr>\n",
       "  </thead>\n",
       "  <tbody>\n",
       "    <tr>\n",
       "      <th>1500</th>\n",
       "      <td>0.004148</td>\n",
       "      <td>1500</td>\n",
       "      <td>0.004138</td>\n",
       "      <td>1500</td>\n",
       "      <td>0.005953</td>\n",
       "      <td>1500</td>\n",
       "      <td>0.012077</td>\n",
       "    </tr>\n",
       "    <tr>\n",
       "      <th>1499</th>\n",
       "      <td>0.004362</td>\n",
       "      <td>1499</td>\n",
       "      <td>0.004331</td>\n",
       "      <td>1499</td>\n",
       "      <td>0.006137</td>\n",
       "      <td>1499</td>\n",
       "      <td>0.012277</td>\n",
       "    </tr>\n",
       "    <tr>\n",
       "      <th>1498</th>\n",
       "      <td>0.004511</td>\n",
       "      <td>1498</td>\n",
       "      <td>0.004460</td>\n",
       "      <td>1498</td>\n",
       "      <td>0.006307</td>\n",
       "      <td>1498</td>\n",
       "      <td>0.012400</td>\n",
       "    </tr>\n",
       "    <tr>\n",
       "      <th>1497</th>\n",
       "      <td>0.004189</td>\n",
       "      <td>1497</td>\n",
       "      <td>0.004218</td>\n",
       "      <td>1497</td>\n",
       "      <td>0.006018</td>\n",
       "      <td>1497</td>\n",
       "      <td>0.012140</td>\n",
       "    </tr>\n",
       "    <tr>\n",
       "      <th>1496</th>\n",
       "      <td>0.004270</td>\n",
       "      <td>1496</td>\n",
       "      <td>0.004241</td>\n",
       "      <td>1496</td>\n",
       "      <td>0.006075</td>\n",
       "      <td>1496</td>\n",
       "      <td>0.012225</td>\n",
       "    </tr>\n",
       "  </tbody>\n",
       "</table>\n",
       "</div>"
      ],
      "text/plain": [
       "                 Abs_1  Wavelength_2     Abs_2  Wavelength_3     Abs_3  \\\n",
       "Wavelength_1                                                             \n",
       "1500          0.004148          1500  0.004138          1500  0.005953   \n",
       "1499          0.004362          1499  0.004331          1499  0.006137   \n",
       "1498          0.004511          1498  0.004460          1498  0.006307   \n",
       "1497          0.004189          1497  0.004218          1497  0.006018   \n",
       "1496          0.004270          1496  0.004241          1496  0.006075   \n",
       "\n",
       "              Wavelength_4     Abs_4  \n",
       "Wavelength_1                          \n",
       "1500                  1500  0.012077  \n",
       "1499                  1499  0.012277  \n",
       "1498                  1498  0.012400  \n",
       "1497                  1497  0.012140  \n",
       "1496                  1496  0.012225  "
      ]
     },
     "execution_count": 19,
     "metadata": {},
     "output_type": "execute_result"
    }
   ],
   "source": [
    "df.set_index('Wavelength_1',inplace=True)\n",
    "df.head()"
   ]
  },
  {
   "cell_type": "markdown",
   "metadata": {},
   "source": [
    "We can rename this to `Wavelength (nm)` and remove the other wavelength columns (which have the same values; that is why we are using it as an index!)."
   ]
  },
  {
   "cell_type": "code",
   "execution_count": 20,
   "metadata": {},
   "outputs": [
    {
     "data": {
      "text/html": [
       "<div>\n",
       "<style scoped>\n",
       "    .dataframe tbody tr th:only-of-type {\n",
       "        vertical-align: middle;\n",
       "    }\n",
       "\n",
       "    .dataframe tbody tr th {\n",
       "        vertical-align: top;\n",
       "    }\n",
       "\n",
       "    .dataframe thead th {\n",
       "        text-align: right;\n",
       "    }\n",
       "</style>\n",
       "<table border=\"1\" class=\"dataframe\">\n",
       "  <thead>\n",
       "    <tr style=\"text-align: right;\">\n",
       "      <th></th>\n",
       "      <th>Abs_1</th>\n",
       "      <th>Wavelength_2</th>\n",
       "      <th>Abs_2</th>\n",
       "      <th>Wavelength_3</th>\n",
       "      <th>Abs_3</th>\n",
       "      <th>Wavelength_4</th>\n",
       "      <th>Abs_4</th>\n",
       "    </tr>\n",
       "    <tr>\n",
       "      <th>Wavelength (nm)</th>\n",
       "      <th></th>\n",
       "      <th></th>\n",
       "      <th></th>\n",
       "      <th></th>\n",
       "      <th></th>\n",
       "      <th></th>\n",
       "      <th></th>\n",
       "    </tr>\n",
       "  </thead>\n",
       "  <tbody>\n",
       "    <tr>\n",
       "      <th>1500</th>\n",
       "      <td>0.004148</td>\n",
       "      <td>1500</td>\n",
       "      <td>0.004138</td>\n",
       "      <td>1500</td>\n",
       "      <td>0.005953</td>\n",
       "      <td>1500</td>\n",
       "      <td>0.012077</td>\n",
       "    </tr>\n",
       "    <tr>\n",
       "      <th>1499</th>\n",
       "      <td>0.004362</td>\n",
       "      <td>1499</td>\n",
       "      <td>0.004331</td>\n",
       "      <td>1499</td>\n",
       "      <td>0.006137</td>\n",
       "      <td>1499</td>\n",
       "      <td>0.012277</td>\n",
       "    </tr>\n",
       "    <tr>\n",
       "      <th>1498</th>\n",
       "      <td>0.004511</td>\n",
       "      <td>1498</td>\n",
       "      <td>0.004460</td>\n",
       "      <td>1498</td>\n",
       "      <td>0.006307</td>\n",
       "      <td>1498</td>\n",
       "      <td>0.012400</td>\n",
       "    </tr>\n",
       "    <tr>\n",
       "      <th>1497</th>\n",
       "      <td>0.004189</td>\n",
       "      <td>1497</td>\n",
       "      <td>0.004218</td>\n",
       "      <td>1497</td>\n",
       "      <td>0.006018</td>\n",
       "      <td>1497</td>\n",
       "      <td>0.012140</td>\n",
       "    </tr>\n",
       "    <tr>\n",
       "      <th>1496</th>\n",
       "      <td>0.004270</td>\n",
       "      <td>1496</td>\n",
       "      <td>0.004241</td>\n",
       "      <td>1496</td>\n",
       "      <td>0.006075</td>\n",
       "      <td>1496</td>\n",
       "      <td>0.012225</td>\n",
       "    </tr>\n",
       "  </tbody>\n",
       "</table>\n",
       "</div>"
      ],
      "text/plain": [
       "                    Abs_1  Wavelength_2     Abs_2  Wavelength_3     Abs_3  \\\n",
       "Wavelength (nm)                                                             \n",
       "1500             0.004148          1500  0.004138          1500  0.005953   \n",
       "1499             0.004362          1499  0.004331          1499  0.006137   \n",
       "1498             0.004511          1498  0.004460          1498  0.006307   \n",
       "1497             0.004189          1497  0.004218          1497  0.006018   \n",
       "1496             0.004270          1496  0.004241          1496  0.006075   \n",
       "\n",
       "                 Wavelength_4     Abs_4  \n",
       "Wavelength (nm)                          \n",
       "1500                     1500  0.012077  \n",
       "1499                     1499  0.012277  \n",
       "1498                     1498  0.012400  \n",
       "1497                     1497  0.012140  \n",
       "1496                     1496  0.012225  "
      ]
     },
     "execution_count": 20,
     "metadata": {},
     "output_type": "execute_result"
    }
   ],
   "source": [
    "df.index.rename('Wavelength (nm)',inplace=True)\n",
    "df.head()"
   ]
  },
  {
   "cell_type": "code",
   "execution_count": 21,
   "metadata": {},
   "outputs": [
    {
     "data": {
      "text/html": [
       "<div>\n",
       "<style scoped>\n",
       "    .dataframe tbody tr th:only-of-type {\n",
       "        vertical-align: middle;\n",
       "    }\n",
       "\n",
       "    .dataframe tbody tr th {\n",
       "        vertical-align: top;\n",
       "    }\n",
       "\n",
       "    .dataframe thead th {\n",
       "        text-align: right;\n",
       "    }\n",
       "</style>\n",
       "<table border=\"1\" class=\"dataframe\">\n",
       "  <thead>\n",
       "    <tr style=\"text-align: right;\">\n",
       "      <th></th>\n",
       "      <th>Abs_1</th>\n",
       "      <th>Abs_2</th>\n",
       "      <th>Abs_3</th>\n",
       "      <th>Abs_4</th>\n",
       "    </tr>\n",
       "    <tr>\n",
       "      <th>Wavelength (nm)</th>\n",
       "      <th></th>\n",
       "      <th></th>\n",
       "      <th></th>\n",
       "      <th></th>\n",
       "    </tr>\n",
       "  </thead>\n",
       "  <tbody>\n",
       "    <tr>\n",
       "      <th>1500</th>\n",
       "      <td>0.004148</td>\n",
       "      <td>0.004138</td>\n",
       "      <td>0.005953</td>\n",
       "      <td>0.012077</td>\n",
       "    </tr>\n",
       "    <tr>\n",
       "      <th>1499</th>\n",
       "      <td>0.004362</td>\n",
       "      <td>0.004331</td>\n",
       "      <td>0.006137</td>\n",
       "      <td>0.012277</td>\n",
       "    </tr>\n",
       "    <tr>\n",
       "      <th>1498</th>\n",
       "      <td>0.004511</td>\n",
       "      <td>0.004460</td>\n",
       "      <td>0.006307</td>\n",
       "      <td>0.012400</td>\n",
       "    </tr>\n",
       "    <tr>\n",
       "      <th>1497</th>\n",
       "      <td>0.004189</td>\n",
       "      <td>0.004218</td>\n",
       "      <td>0.006018</td>\n",
       "      <td>0.012140</td>\n",
       "    </tr>\n",
       "    <tr>\n",
       "      <th>1496</th>\n",
       "      <td>0.004270</td>\n",
       "      <td>0.004241</td>\n",
       "      <td>0.006075</td>\n",
       "      <td>0.012225</td>\n",
       "    </tr>\n",
       "  </tbody>\n",
       "</table>\n",
       "</div>"
      ],
      "text/plain": [
       "                    Abs_1     Abs_2     Abs_3     Abs_4\n",
       "Wavelength (nm)                                        \n",
       "1500             0.004148  0.004138  0.005953  0.012077\n",
       "1499             0.004362  0.004331  0.006137  0.012277\n",
       "1498             0.004511  0.004460  0.006307  0.012400\n",
       "1497             0.004189  0.004218  0.006018  0.012140\n",
       "1496             0.004270  0.004241  0.006075  0.012225"
      ]
     },
     "execution_count": 21,
     "metadata": {},
     "output_type": "execute_result"
    }
   ],
   "source": [
    "df.drop(columns=['Wavelength_2','Wavelength_3','Wavelength_4'],inplace=True)\n",
    "df.head()"
   ]
  },
  {
   "cell_type": "markdown",
   "metadata": {},
   "source": [
    "## Filtering data"
   ]
  },
  {
   "cell_type": "markdown",
   "metadata": {},
   "source": [
    "We can print the absorption at a particular wavelength using the  `loc`  function index label (just like when we selected rows in the cats example)."
   ]
  },
  {
   "cell_type": "code",
   "execution_count": 22,
   "metadata": {},
   "outputs": [
    {
     "data": {
      "text/plain": [
       "Abs_1    0.028100\n",
       "Abs_2    0.028109\n",
       "Abs_3    0.030061\n",
       "Abs_4    0.041029\n",
       "Name: 1000, dtype: float64"
      ]
     },
     "execution_count": 22,
     "metadata": {},
     "output_type": "execute_result"
    }
   ],
   "source": [
    "df.loc[1000]   # print absorption data for wavelength 1000nm"
   ]
  },
  {
   "cell_type": "markdown",
   "metadata": {},
   "source": [
    "We can also select rows using a boolean array (an array containing `True` or `False` values):"
   ]
  },
  {
   "cell_type": "code",
   "execution_count": 23,
   "metadata": {},
   "outputs": [
    {
     "data": {
      "text/html": [
       "<div>\n",
       "<style scoped>\n",
       "    .dataframe tbody tr th:only-of-type {\n",
       "        vertical-align: middle;\n",
       "    }\n",
       "\n",
       "    .dataframe tbody tr th {\n",
       "        vertical-align: top;\n",
       "    }\n",
       "\n",
       "    .dataframe thead th {\n",
       "        text-align: right;\n",
       "    }\n",
       "</style>\n",
       "<table border=\"1\" class=\"dataframe\">\n",
       "  <thead>\n",
       "    <tr style=\"text-align: right;\">\n",
       "      <th></th>\n",
       "      <th>Abs_1</th>\n",
       "      <th>Abs_2</th>\n",
       "      <th>Abs_3</th>\n",
       "      <th>Abs_4</th>\n",
       "    </tr>\n",
       "    <tr>\n",
       "      <th>Wavelength (nm)</th>\n",
       "      <th></th>\n",
       "      <th></th>\n",
       "      <th></th>\n",
       "      <th></th>\n",
       "    </tr>\n",
       "  </thead>\n",
       "  <tbody>\n",
       "    <tr>\n",
       "      <th>1000</th>\n",
       "      <td>0.0281</td>\n",
       "      <td>0.028109</td>\n",
       "      <td>0.030061</td>\n",
       "      <td>0.041029</td>\n",
       "    </tr>\n",
       "  </tbody>\n",
       "</table>\n",
       "</div>"
      ],
      "text/plain": [
       "                  Abs_1     Abs_2     Abs_3     Abs_4\n",
       "Wavelength (nm)                                      \n",
       "1000             0.0281  0.028109  0.030061  0.041029"
      ]
     },
     "execution_count": 23,
     "metadata": {},
     "output_type": "execute_result"
    }
   ],
   "source": [
    "df.loc[df.index == 1000] # print absorption data for wavelength 1000nm"
   ]
  },
  {
   "cell_type": "markdown",
   "metadata": {},
   "source": [
    "<div class=\"alert alert-success\">\n",
    "Verify that `df.index == 1000` is a boolean array\n",
    "</div>"
   ]
  },
  {
   "cell_type": "code",
   "execution_count": null,
   "metadata": {},
   "outputs": [],
   "source": []
  },
  {
   "cell_type": "markdown",
   "metadata": {},
   "source": [
    "We can select the rows for a range of wavelengths by using multiple boolean expressions:"
   ]
  },
  {
   "cell_type": "code",
   "execution_count": 24,
   "metadata": {},
   "outputs": [
    {
     "data": {
      "text/html": [
       "<div>\n",
       "<style scoped>\n",
       "    .dataframe tbody tr th:only-of-type {\n",
       "        vertical-align: middle;\n",
       "    }\n",
       "\n",
       "    .dataframe tbody tr th {\n",
       "        vertical-align: top;\n",
       "    }\n",
       "\n",
       "    .dataframe thead th {\n",
       "        text-align: right;\n",
       "    }\n",
       "</style>\n",
       "<table border=\"1\" class=\"dataframe\">\n",
       "  <thead>\n",
       "    <tr style=\"text-align: right;\">\n",
       "      <th></th>\n",
       "      <th>Abs_1</th>\n",
       "      <th>Abs_2</th>\n",
       "      <th>Abs_3</th>\n",
       "      <th>Abs_4</th>\n",
       "    </tr>\n",
       "    <tr>\n",
       "      <th>Wavelength (nm)</th>\n",
       "      <th></th>\n",
       "      <th></th>\n",
       "      <th></th>\n",
       "      <th></th>\n",
       "    </tr>\n",
       "  </thead>\n",
       "  <tbody>\n",
       "    <tr>\n",
       "      <th>1000</th>\n",
       "      <td>0.028100</td>\n",
       "      <td>0.028109</td>\n",
       "      <td>0.030061</td>\n",
       "      <td>0.041029</td>\n",
       "    </tr>\n",
       "    <tr>\n",
       "      <th>999</th>\n",
       "      <td>0.028251</td>\n",
       "      <td>0.028196</td>\n",
       "      <td>0.030167</td>\n",
       "      <td>0.041244</td>\n",
       "    </tr>\n",
       "    <tr>\n",
       "      <th>998</th>\n",
       "      <td>0.028338</td>\n",
       "      <td>0.028350</td>\n",
       "      <td>0.030341</td>\n",
       "      <td>0.041357</td>\n",
       "    </tr>\n",
       "    <tr>\n",
       "      <th>997</th>\n",
       "      <td>0.028469</td>\n",
       "      <td>0.028439</td>\n",
       "      <td>0.030444</td>\n",
       "      <td>0.041483</td>\n",
       "    </tr>\n",
       "    <tr>\n",
       "      <th>996</th>\n",
       "      <td>0.028596</td>\n",
       "      <td>0.028622</td>\n",
       "      <td>0.030571</td>\n",
       "      <td>0.041681</td>\n",
       "    </tr>\n",
       "    <tr>\n",
       "      <th>995</th>\n",
       "      <td>0.028750</td>\n",
       "      <td>0.028732</td>\n",
       "      <td>0.030710</td>\n",
       "      <td>0.041754</td>\n",
       "    </tr>\n",
       "    <tr>\n",
       "      <th>994</th>\n",
       "      <td>0.028888</td>\n",
       "      <td>0.028905</td>\n",
       "      <td>0.030812</td>\n",
       "      <td>0.041947</td>\n",
       "    </tr>\n",
       "    <tr>\n",
       "      <th>993</th>\n",
       "      <td>0.028995</td>\n",
       "      <td>0.028989</td>\n",
       "      <td>0.030989</td>\n",
       "      <td>0.042099</td>\n",
       "    </tr>\n",
       "    <tr>\n",
       "      <th>992</th>\n",
       "      <td>0.029265</td>\n",
       "      <td>0.029215</td>\n",
       "      <td>0.031231</td>\n",
       "      <td>0.042304</td>\n",
       "    </tr>\n",
       "    <tr>\n",
       "      <th>991</th>\n",
       "      <td>0.029341</td>\n",
       "      <td>0.029333</td>\n",
       "      <td>0.031284</td>\n",
       "      <td>0.042408</td>\n",
       "    </tr>\n",
       "  </tbody>\n",
       "</table>\n",
       "</div>"
      ],
      "text/plain": [
       "                    Abs_1     Abs_2     Abs_3     Abs_4\n",
       "Wavelength (nm)                                        \n",
       "1000             0.028100  0.028109  0.030061  0.041029\n",
       "999              0.028251  0.028196  0.030167  0.041244\n",
       "998              0.028338  0.028350  0.030341  0.041357\n",
       "997              0.028469  0.028439  0.030444  0.041483\n",
       "996              0.028596  0.028622  0.030571  0.041681\n",
       "995              0.028750  0.028732  0.030710  0.041754\n",
       "994              0.028888  0.028905  0.030812  0.041947\n",
       "993              0.028995  0.028989  0.030989  0.042099\n",
       "992              0.029265  0.029215  0.031231  0.042304\n",
       "991              0.029341  0.029333  0.031284  0.042408"
      ]
     },
     "execution_count": 24,
     "metadata": {},
     "output_type": "execute_result"
    }
   ],
   "source": [
    "df.loc[(df.index <= 1000) & (df.index > 990)]"
   ]
  },
  {
   "cell_type": "markdown",
   "metadata": {},
   "source": [
    "<div class=\"alert alert-success\">\n",
    "Select rows with wavelength less than 200\n",
    "</div>"
   ]
  },
  {
   "cell_type": "code",
   "execution_count": null,
   "metadata": {},
   "outputs": [],
   "source": []
  },
  {
   "cell_type": "markdown",
   "metadata": {},
   "source": [
    "## Plotting\n",
    "\n",
    "We can use `plot()` to plot a column of data. Note: `Pandas` uses the Python `matplotlib` library for plotting, which contains [many, many plotting options](https://matplotlib.org/gallery.html)."
   ]
  },
  {
   "cell_type": "code",
   "execution_count": 25,
   "metadata": {},
   "outputs": [
    {
     "data": {
      "text/plain": [
       "<matplotlib.axes._subplots.AxesSubplot at 0x1156d3550>"
      ]
     },
     "execution_count": 25,
     "metadata": {},
     "output_type": "execute_result"
    },
    {
     "data": {
      "image/png": "[encoded data removed]",
      "text/plain": [
       "<Figure size 432x288 with 1 Axes>"
      ]
     },
     "metadata": {},
     "output_type": "display_data"
    }
   ],
   "source": [
    "df['Abs_1'].plot()\n",
    "df['Abs_2'].plot()"
   ]
  },
  {
   "cell_type": "markdown",
   "metadata": {},
   "source": [
    "# UK Libraries\n",
    "\n",
    "For the Final Challenge we are going to read in the Public Library dataset from the [UK governement data website](https://data.gov.uk/).\n",
    "\n",
    "![library_pic](./images/library.jpg)\n",
    "\n",
    "## Reading in data from a URL\n",
    "\n",
    "We can use the `pd.read_csv` function to read in data directly from a URL. The `header` keyword tells the function which line to use for column headings. The `encoding` keyword specifies the unicode encoding type (for most csv files the default option, ie: not setting the keyword at all, would work but here they have used the less common `Latin1` encoding).\n"
   ]
  },
  {
   "cell_type": "code",
   "execution_count": null,
   "metadata": {},
   "outputs": [],
   "source": [
    "url=\"https://www.gov.uk/government/uploads/system/uploads/attachment_data/file/673041/Public_libraries_in_England-_extended_basic_dataset__as_on_1_July_2016_.csv\"\n",
    "library_df=pd.read_csv(url, header=1, encoding='latin-1')\n",
    "library_df"
   ]
  },
  {
   "cell_type": "markdown",
   "metadata": {},
   "source": [
    "## Final Challenge\n",
    "\n",
    "Can you calculate how many libraries closed between 2010 and 2016? (Libraries which were included in statutory service on 1st April 2010, but were not included in statutory service on 1 July 2016).\n",
    "You will need to use [boolean indexing](https://pandas.pydata.org/pandas-docs/stable/indexing.html#boolean-indexing) for this challenge.\n"
   ]
  }
 ],
 "metadata": {
  "kernelspec": {
   "display_name": "Python 3",
   "language": "python",
   "name": "python3"
  },
  "language_info": {
   "codemirror_mode": {
    "name": "ipython",
    "version": 3
   },
   "file_extension": ".py",
   "mimetype": "text/x-python",
   "name": "python",
   "nbconvert_exporter": "python",
   "pygments_lexer": "ipython3",
   "version": "3.6.4"
  }
 },
 "nbformat": 4,
 "nbformat_minor": 2
}
